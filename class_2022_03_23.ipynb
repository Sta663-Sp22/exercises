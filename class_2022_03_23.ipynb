{
 "cells": [
  {
   "cell_type": "code",
   "execution_count": 1,
   "id": "6efea81c-0a0b-4908-b6da-518fab1bce86",
   "metadata": {},
   "outputs": [],
   "source": [
    "import numpy as np\n",
    "import pandas as pd\n",
    "import seaborn as sns\n",
    "import pymc3 as pm\n",
    "import arviz as az\n",
    "import matplotlib.pyplot as plt"
   ]
  },
  {
   "cell_type": "markdown",
   "id": "57a0e7f2",
   "metadata": {},
   "source": [
    "## Demo 1 - Bayesian Lasso"
   ]
  },
  {
   "cell_type": "code",
   "execution_count": null,
   "id": "cc831ae1",
   "metadata": {},
   "outputs": [],
   "source": [
    "n = 50\n",
    "k = 100\n",
    "\n",
    "np.random.seed(1234)\n",
    "X = np.random.normal(size=(n, k))\n",
    "\n",
    "beta = np.zeros(shape=k)\n",
    "beta[[10,30,50,70]] =  10\n",
    "beta[[20,40,60,80]] = -10\n",
    "\n",
    "y = X @ beta + np.random.normal(size=n)"
   ]
  },
  {
   "cell_type": "code",
   "execution_count": null,
   "id": "ae77a9d4",
   "metadata": {},
   "outputs": [],
   "source": []
  },
  {
   "cell_type": "markdown",
   "id": "4f8ffcf3",
   "metadata": {},
   "source": [
    "## Demo 2 - Gaussian Process\n",
    "\n",
    "ExpQuad covariance function:\n",
    "\n",
    "$\\qquad k(x, x') = \\mathrm{exp}\\left[ -\\frac{(x - x')^2}{2 \\ell^2} \\right]$"
   ]
  },
  {
   "cell_type": "code",
   "execution_count": 2,
   "id": "3496790a",
   "metadata": {},
   "outputs": [
    {
     "ename": "NameError",
     "evalue": "name 'np' is not defined",
     "output_type": "error",
     "traceback": [
      "\u001b[0;31m---------------------------------------------------------------------------\u001b[0m",
      "\u001b[0;31mNameError\u001b[0m                                 Traceback (most recent call last)",
      "\u001b[1;32m/Users/rundel/Desktop/Sta663-Sp22/exercises/class_2022_03_23.ipynb Cell 5'\u001b[0m in \u001b[0;36m<cell line: 1>\u001b[0;34m()\u001b[0m\n\u001b[0;32m----> <a href='vscode-notebook-cell:/Users/rundel/Desktop/Sta663-Sp22/exercises/class_2022_03_23.ipynb#ch0000015?line=0'>1</a>\u001b[0m np\u001b[39m.\u001b[39mrandom\u001b[39m.\u001b[39mseed(\u001b[39m12345\u001b[39m)\n\u001b[1;32m      <a href='vscode-notebook-cell:/Users/rundel/Desktop/Sta663-Sp22/exercises/class_2022_03_23.ipynb#ch0000015?line=2'>3</a>\u001b[0m n \u001b[39m=\u001b[39m \u001b[39m50\u001b[39m\n\u001b[1;32m      <a href='vscode-notebook-cell:/Users/rundel/Desktop/Sta663-Sp22/exercises/class_2022_03_23.ipynb#ch0000015?line=3'>4</a>\u001b[0m x \u001b[39m=\u001b[39m np\u001b[39m.\u001b[39mlinspace(\u001b[39m0\u001b[39m, \u001b[39m1\u001b[39m, n)\n",
      "\u001b[0;31mNameError\u001b[0m: name 'np' is not defined"
     ]
    }
   ],
   "source": [
    "np.random.seed(12345)\n",
    "\n",
    "n = 50\n",
    "x = np.linspace(0, 1, n)\n",
    "X = x.reshape(-1,1)\n",
    "\n",
    "nugget = 0.75\n",
    "sigma2_true = 4.0\n",
    "l_true = 10\n",
    "\n",
    "cov_func = sigma2_true * pm.gp.cov.ExpQuad(1, 1/l_true)\n",
    "mean_func = pm.gp.mean.Zero()\n",
    "\n",
    "y_true = np.random.multivariate_normal(\n",
    "    mean_func(X).eval(), cov_func(X).eval(), 1\n",
    ").flatten()\n",
    "\n",
    "y = y_true + nugget * np.random.randn(n)"
   ]
  },
  {
   "cell_type": "code",
   "execution_count": null,
   "id": "5813bc6e",
   "metadata": {},
   "outputs": [],
   "source": []
  },
  {
   "cell_type": "markdown",
   "id": "52d50b7d",
   "metadata": {},
   "source": []
  }
 ],
 "metadata": {
  "kernelspec": {
   "display_name": "Python 3 (ipykernel)",
   "language": "python",
   "name": "python3"
  },
  "language_info": {
   "codemirror_mode": {
    "name": "ipython",
    "version": 3
   },
   "file_extension": ".py",
   "mimetype": "text/x-python",
   "name": "python",
   "nbconvert_exporter": "python",
   "pygments_lexer": "ipython3",
   "version": "3.9.10"
  }
 },
 "nbformat": 4,
 "nbformat_minor": 5
}
