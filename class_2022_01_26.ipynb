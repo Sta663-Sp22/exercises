{
 "cells": [
  {
   "cell_type": "code",
   "execution_count": 1,
   "id": "c06fac61-6581-467e-bb00-25980c81ae46",
   "metadata": {},
   "outputs": [],
   "source": [
    "import numpy as np"
   ]
  },
  {
   "cell_type": "markdown",
   "id": "347fecb7-2e82-4b05-adb9-9ab4fac9202e",
   "metadata": {},
   "source": [
    "## Exercise 1"
   ]
  },
  {
   "cell_type": "code",
   "execution_count": 2,
   "id": "3fd98772-2396-4e0d-9383-e056df2c5899",
   "metadata": {},
   "outputs": [
    {
     "data": {
      "text/plain": [
       "array([[ 0,  1,  2,  3],\n",
       "       [ 4,  5,  6,  7],\n",
       "       [ 8,  9, 10, 11],\n",
       "       [12, 13, 14, 15]])"
      ]
     },
     "execution_count": 2,
     "metadata": {},
     "output_type": "execute_result"
    }
   ],
   "source": [
    "x = np.arange(16).reshape((4,4))\n",
    "x"
   ]
  },
  {
   "cell_type": "code",
   "execution_count": 3,
   "id": "48c1c6ab-c31d-47d9-826c-214c396bfb3e",
   "metadata": {},
   "outputs": [
    {
     "data": {
      "text/plain": [
       "array([[ 5,  6],\n",
       "       [ 9, 10]])"
      ]
     },
     "execution_count": 3,
     "metadata": {},
     "output_type": "execute_result"
    }
   ],
   "source": [
    "# Subset to get the 2x2 with 5, 6, 9, 10 as elements\n",
    "\n",
    "x[1:3, 1:3]"
   ]
  },
  {
   "cell_type": "code",
   "execution_count": 4,
   "id": "3da7b4b4-4d98-4213-a253-ebb6094703ba",
   "metadata": {},
   "outputs": [
    {
     "data": {
      "text/plain": [
       "array([ 5, 10])"
      ]
     },
     "execution_count": 4,
     "metadata": {},
     "output_type": "execute_result"
    }
   ],
   "source": [
    "x[[1,2], [1,2]]"
   ]
  },
  {
   "cell_type": "code",
   "execution_count": 7,
   "id": "65c66b81-438c-42cb-9308-6a96328586ac",
   "metadata": {},
   "outputs": [
    {
     "data": {
      "text/plain": [
       "array([[ 5,  6],\n",
       "       [ 9, 10]])"
      ]
     },
     "execution_count": 7,
     "metadata": {},
     "output_type": "execute_result"
    }
   ],
   "source": [
    "x[[1,2],][:,[1,2]]"
   ]
  },
  {
   "cell_type": "code",
   "execution_count": 9,
   "id": "4733853e-3364-40be-9bb9-70fb5baa9828",
   "metadata": {},
   "outputs": [
    {
     "data": {
      "text/plain": [
       "array([[12, 13, 14, 15],\n",
       "       [12, 13, 14, 15],\n",
       "       [12, 13, 14, 15],\n",
       "       [ 0,  1,  2,  3]])"
      ]
     },
     "execution_count": 9,
     "metadata": {},
     "output_type": "execute_result"
    }
   ],
   "source": [
    "x[[3,3,3,0],]"
   ]
  },
  {
   "cell_type": "markdown",
   "id": "01ac0785-650f-4ec2-9c0a-d2ccdfb383c8",
   "metadata": {},
   "source": [
    "## Exercise 2\n",
    "\n",
    "We will now use this to attempt a simple brute force approach to numerical optimization, define a grid of points using meshgrid() to approximate the minima the following function:\n",
    "\n",
    "$$f(x,y)=(1−x)^2+100(y−x^2)^2$$\n",
    "\n",
    "Considering values of $x, y \\in (−1,3)$, which values of $x, y$ minimize this function?"
   ]
  },
  {
   "cell_type": "code",
   "execution_count": 12,
   "id": "4a7fcb19-d6f6-4f9d-82c5-dba1fc1fc074",
   "metadata": {},
   "outputs": [
    {
     "data": {
      "text/plain": [
       "array([[  404.        ,   403.35718397,   402.71539241, ...,\n",
       "         9984.80409733,  9994.39846444, 10004.        ],\n",
       "       [  403.68000001,   403.03743999,   402.39590422, ...,\n",
       "         9983.2053775 ,  9992.7989766 , 10002.39974396],\n",
       "       [  403.36012808,   402.71782405,   402.07654408, ...,\n",
       "         9981.60678572,  9991.19961682, 10000.79961597],\n",
       "       ...,\n",
       "       [  403.36012808,   403.9965439 ,   404.63296018, ...,\n",
       "         3594.40115259,  3600.15782415,  3605.92064018],\n",
       "       [  403.68000001,   404.31667183,   404.95334391, ...,\n",
       "         3593.44230468,  3599.19820824,  3604.96025606],\n",
       "       [  404.        ,   404.63692782,   405.27385569, ...,\n",
       "         3592.48358482,  3598.23872038,  3604.        ]])"
      ]
     },
     "execution_count": 12,
     "metadata": {},
     "output_type": "execute_result"
    }
   ],
   "source": [
    "pts = np.linspace(-1, 3, 5000)\n",
    "x, y = np.meshgrid(pts, pts)\n",
    "\n",
    "f = (1-x)**2 + 100 * (y-x**2)**2"
   ]
  },
  {
   "cell_type": "code",
   "execution_count": 16,
   "id": "a9432d7b-9d13-4cb4-977a-9aec3e09a6c8",
   "metadata": {},
   "outputs": [
    {
     "name": "stdout",
     "output_type": "stream",
     "text": [
      "[0.99959992] [0.99959992]\n"
     ]
    }
   ],
   "source": [
    "mn = np.min(f)\n",
    "print(x[f == mn], y[f == mn])"
   ]
  },
  {
   "cell_type": "code",
   "execution_count": 18,
   "id": "e008b82e-8981-4b70-9402-3819c2d5d1bb",
   "metadata": {},
   "outputs": [
    {
     "data": {
      "text/plain": [
       "12497499"
      ]
     },
     "execution_count": 18,
     "metadata": {},
     "output_type": "execute_result"
    }
   ],
   "source": [
    "min_i = np.argmin(f, axis=None)\n",
    "min_i"
   ]
  },
  {
   "cell_type": "code",
   "execution_count": 19,
   "id": "5e6c0f01-2156-43b5-8ac1-905d920faa42",
   "metadata": {},
   "outputs": [
    {
     "name": "stdout",
     "output_type": "stream",
     "text": [
      "0.9995999199839969 0.9995999199839969\n"
     ]
    }
   ],
   "source": [
    "print(x.ravel()[min_i], y.ravel()[min_i])"
   ]
  },
  {
   "cell_type": "markdown",
   "id": "ca6f12bc-31c1-4bde-abe7-8bc0f183b6f6",
   "metadata": {},
   "source": [
    "## Example 1"
   ]
  },
  {
   "cell_type": "code",
   "execution_count": 20,
   "id": "a99d9796-be47-47dd-afea-7c849a67bb88",
   "metadata": {},
   "outputs": [
    {
     "data": {
      "text/plain": [
       "array([[-2.60383681,  0.12819983,  3.22267389],\n",
       "       [-0.84738081,  1.72748778,  9.73929767],\n",
       "       [-2.47882336,  1.89094595, -3.99840637],\n",
       "       ...,\n",
       "       [-0.70173602, -1.00685694,  4.73479258],\n",
       "       [-2.53070737, -1.61987846, -3.09503767],\n",
       "       [ 0.20192215, -1.36334125, -1.24706282]])"
      ]
     },
     "execution_count": 20,
     "metadata": {},
     "output_type": "execute_result"
    }
   ],
   "source": [
    "rng = np.random.default_rng(1234)\n",
    "d = rng.normal(loc=[-1,0,1], scale=[1,2,3], size=(1000,3))\n",
    "d"
   ]
  },
  {
   "cell_type": "code",
   "execution_count": 21,
   "id": "67eadb5b-c1e9-4ed3-9469-24e9b1b0ee01",
   "metadata": {},
   "outputs": [
    {
     "data": {
      "text/plain": [
       "array([-1.0294382 , -0.01396257,  1.01241784])"
      ]
     },
     "execution_count": 21,
     "metadata": {},
     "output_type": "execute_result"
    }
   ],
   "source": [
    "d.mean(axis=0)"
   ]
  },
  {
   "cell_type": "code",
   "execution_count": 24,
   "id": "a9090163-77dc-4d07-8d99-6d7956c87610",
   "metadata": {},
   "outputs": [
    {
     "data": {
      "text/plain": [
       "array([0.99674719, 2.03222595, 3.10625219])"
      ]
     },
     "execution_count": 24,
     "metadata": {},
     "output_type": "execute_result"
    }
   ],
   "source": [
    "d.std(axis=0)"
   ]
  },
  {
   "cell_type": "markdown",
   "id": "0c0c0ff1-5b68-435c-a1e3-b31b0ac7d5b5",
   "metadata": {},
   "source": [
    "Standardize the three columns to have mean 0 and std dev 1."
   ]
  },
  {
   "cell_type": "code",
   "execution_count": 26,
   "id": "4ed161b9-037c-4916-96d3-1133bd89f901",
   "metadata": {},
   "outputs": [
    {
     "data": {
      "text/plain": [
       "(1000, 3)"
      ]
     },
     "execution_count": 26,
     "metadata": {},
     "output_type": "execute_result"
    }
   ],
   "source": [
    "d_std = (d - d.mean(axis=0)) / d.std(axis=0)\n",
    "d_std.shape"
   ]
  },
  {
   "cell_type": "code",
   "execution_count": 27,
   "id": "07f91955-5723-4ad9-adbf-b7fac49c138f",
   "metadata": {},
   "outputs": [
    {
     "name": "stdout",
     "output_type": "stream",
     "text": [
      "[ 2.35367281e-17  7.32747196e-18 -1.79078974e-16] [1. 1. 1.]\n"
     ]
    }
   ],
   "source": [
    "print(d_std.mean(0), d_std.std(0))"
   ]
  },
  {
   "cell_type": "markdown",
   "id": "47e45ab3-22b8-43f8-b6ad-dec39a529525",
   "metadata": {},
   "source": [
    "## Exercise 3\n",
    "\n",
    "* *A (128 x 128 x 3) + B (3)*:\n",
    "\n",
    "```\n",
    "A    128 x 128 x 3\n",
    "B                3\n",
    "------------------\n",
    "A+B  128 x 128 x 3 \n",
    "```\n",
    "\n",
    "* A (8 x 1 x 6 x 1) + B (7 x 1 x 5)\n",
    "\n",
    "```\n",
    "A    8 x 1 x 6 x 1\n",
    "B        7 x 1 x 5\n",
    "------------------\n",
    "A+B  8 x 7 x 6 x 5\n",
    "```\n",
    "\n",
    "* A (2 x 1) + B (8 x 4 x 3)\n",
    "\n",
    "```\n",
    "A            2 x 1\n",
    "B        8 x 4 x 3\n",
    "------------------\n",
    "A+B         Error\n",
    "```\n",
    "\n",
    "* A (3 x 1) + B (15 x 3 x 5)\n",
    "\n",
    "```\n",
    "A            3 x 1\n",
    "B       15 x 3 x 5\n",
    "------------------\n",
    "A+B     15   3   5\n",
    "```\n",
    "\n",
    "* A (3) + B (4)\n",
    "\n",
    "```\n",
    "A       3\n",
    "B       4\n",
    "--------------\n",
    "A+B   Error\n",
    "```"
   ]
  },
  {
   "cell_type": "code",
   "execution_count": null,
   "id": "6b4827c6-8130-4029-a0e2-39bc19f3e733",
   "metadata": {},
   "outputs": [],
   "source": []
  }
 ],
 "metadata": {
  "kernelspec": {
   "display_name": "Python 3 (ipykernel)",
   "language": "python",
   "name": "python3"
  },
  "language_info": {
   "codemirror_mode": {
    "name": "ipython",
    "version": 3
   },
   "file_extension": ".py",
   "mimetype": "text/x-python",
   "name": "python",
   "nbconvert_exporter": "python",
   "pygments_lexer": "ipython3",
   "version": "3.9.5"
  }
 },
 "nbformat": 4,
 "nbformat_minor": 5
}
