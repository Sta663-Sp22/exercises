{
 "cells": [
  {
   "cell_type": "code",
   "execution_count": null,
   "id": "6efea81c-0a0b-4908-b6da-518fab1bce86",
   "metadata": {},
   "outputs": [],
   "source": [
    "import numpy as np\n",
    "import matplotlib as mpl\n",
    "import matplotlib.pyplot as plt\n",
    "import pandas as pd\n",
    "import seaborn as sns\n",
    "\n",
    "import pymc3 as pm"
   ]
  },
  {
   "cell_type": "markdown",
   "id": "ac45c68f-ad6c-439c-9898-d7624c517c1b",
   "metadata": {},
   "source": [
    "# Demo 1 - Linear regression\n",
    "\n",
    "Given the below data, we want fit a Bayesian linear regression model to the following synthetic data,"
   ]
  },
  {
   "cell_type": "code",
   "execution_count": null,
   "id": "afce6da2-3e01-46c1-b07d-edbd2efdceff",
   "metadata": {},
   "outputs": [],
   "source": [
    "np.random.seed(1234)\n",
    "n = 11\n",
    "m = 6\n",
    "b = 2\n",
    "x = np.linspace(0, 1, n)\n",
    "y = m*x + b + np.random.randn(n)"
   ]
  },
  {
   "cell_type": "markdown",
   "id": "99ceaa56-84e7-4d9e-b237-b3b613cec125",
   "metadata": {},
   "source": [
    "# Demo 2 - Bayesian Lasso\n",
    "\n",
    "Below is synthetic data representing a sparse (underdetermined) system that we would like to model, our goal is to compare a Bayesian linear regression model with a Lasso model and compare their performance"
   ]
  },
  {
   "cell_type": "code",
   "execution_count": null,
   "id": "d266c783-4727-4cec-92a3-7a312a3b3981",
   "metadata": {},
   "outputs": [],
   "source": [
    "n = 50\n",
    "k = 100\n",
    "\n",
    "np.random.seed(1234)\n",
    "X = np.random.normal(size=(n, k))\n",
    "\n",
    "beta = np.zeros(shape=k)\n",
    "beta[[10,30,50,70]] =  10\n",
    "beta[[20,40,60,80]] = -10\n",
    "\n",
    "y = X @ beta + np.random.normal(size=n)"
   ]
  },
  {
   "cell_type": "code",
   "execution_count": null,
   "id": "18e2ea0f-3d69-4b9d-bc1b-4576f91a5330",
   "metadata": {},
   "outputs": [],
   "source": []
  },
  {
   "cell_type": "code",
   "execution_count": null,
   "id": "453a9ce0-1e5c-465d-b13e-742d158955d3",
   "metadata": {},
   "outputs": [],
   "source": [
    "## Plot helper\n",
    "\n",
    "def plot_slope(trace, prior=\"beta\", chain=0):\n",
    "  post = (trace.posterior[prior]\n",
    "          .to_dataframe()\n",
    "          .reset_index()\n",
    "          .query(f\"chain == {chain}\")\n",
    "         )\n",
    "  \n",
    "  sns.catplot(x=\"beta_dim_0\", y=\"beta\", data=post, kind=\"boxen\", linewidth=0, color='blue', aspect=2, showfliers=False)\n",
    "  plt.tight_layout()\n",
    "  plt.show()\n",
    "  "
   ]
  },
  {
   "cell_type": "code",
   "execution_count": null,
   "id": "375c1375-0b8b-4f7e-95f7-15d71a6fe9ce",
   "metadata": {},
   "outputs": [],
   "source": []
  }
 ],
 "metadata": {
  "kernelspec": {
   "display_name": "Python 3 (ipykernel)",
   "language": "python",
   "name": "python3"
  },
  "language_info": {
   "codemirror_mode": {
    "name": "ipython",
    "version": 3
   },
   "file_extension": ".py",
   "mimetype": "text/x-python",
   "name": "python",
   "nbconvert_exporter": "python",
   "pygments_lexer": "ipython3",
   "version": "3.9.10"
  }
 },
 "nbformat": 4,
 "nbformat_minor": 5
}
