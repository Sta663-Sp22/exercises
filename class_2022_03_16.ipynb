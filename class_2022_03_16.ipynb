{
 "cells": [
  {
   "cell_type": "code",
   "execution_count": 1,
   "id": "6efea81c-0a0b-4908-b6da-518fab1bce86",
   "metadata": {},
   "outputs": [],
   "source": [
    "import numpy as np\n",
    "import matplotlib as mpl\n",
    "import matplotlib.pyplot as plt\n",
    "import pandas as pd\n",
    "import seaborn as sns\n",
    "\n",
    "import sklearn"
   ]
  },
  {
   "cell_type": "markdown",
   "id": "9261a84e-f68d-45b3-bfc2-98bb6b1226a7",
   "metadata": {},
   "source": [
    "## Exercise 1"
   ]
  },
  {
   "cell_type": "code",
   "execution_count": 2,
   "id": "3bf53ff4-ce64-41c7-94fc-49cf83befb17",
   "metadata": {},
   "outputs": [],
   "source": [
    "from sklearn.pipeline import make_pipeline\n",
    "from sklearn.linear_model import LinearRegression\n",
    "from sklego.preprocessing import PatsyTransformer"
   ]
  },
  {
   "cell_type": "code",
   "execution_count": 3,
   "id": "02f669c7-359a-4104-b521-2a0a489e1eed",
   "metadata": {},
   "outputs": [
    {
     "data": {
      "text/html": [
       "<div>\n",
       "<style scoped>\n",
       "    .dataframe tbody tr th:only-of-type {\n",
       "        vertical-align: middle;\n",
       "    }\n",
       "\n",
       "    .dataframe tbody tr th {\n",
       "        vertical-align: top;\n",
       "    }\n",
       "\n",
       "    .dataframe thead th {\n",
       "        text-align: right;\n",
       "    }\n",
       "</style>\n",
       "<table border=\"1\" class=\"dataframe\">\n",
       "  <thead>\n",
       "    <tr style=\"text-align: right;\">\n",
       "      <th></th>\n",
       "      <th>volume</th>\n",
       "      <th>weight</th>\n",
       "      <th>cover</th>\n",
       "    </tr>\n",
       "  </thead>\n",
       "  <tbody>\n",
       "    <tr>\n",
       "      <th>0</th>\n",
       "      <td>885</td>\n",
       "      <td>800</td>\n",
       "      <td>hb</td>\n",
       "    </tr>\n",
       "    <tr>\n",
       "      <th>1</th>\n",
       "      <td>1016</td>\n",
       "      <td>950</td>\n",
       "      <td>hb</td>\n",
       "    </tr>\n",
       "    <tr>\n",
       "      <th>2</th>\n",
       "      <td>1125</td>\n",
       "      <td>1050</td>\n",
       "      <td>hb</td>\n",
       "    </tr>\n",
       "    <tr>\n",
       "      <th>3</th>\n",
       "      <td>239</td>\n",
       "      <td>350</td>\n",
       "      <td>hb</td>\n",
       "    </tr>\n",
       "    <tr>\n",
       "      <th>4</th>\n",
       "      <td>701</td>\n",
       "      <td>750</td>\n",
       "      <td>hb</td>\n",
       "    </tr>\n",
       "    <tr>\n",
       "      <th>5</th>\n",
       "      <td>641</td>\n",
       "      <td>600</td>\n",
       "      <td>hb</td>\n",
       "    </tr>\n",
       "    <tr>\n",
       "      <th>6</th>\n",
       "      <td>1228</td>\n",
       "      <td>1075</td>\n",
       "      <td>hb</td>\n",
       "    </tr>\n",
       "    <tr>\n",
       "      <th>7</th>\n",
       "      <td>412</td>\n",
       "      <td>250</td>\n",
       "      <td>pb</td>\n",
       "    </tr>\n",
       "    <tr>\n",
       "      <th>8</th>\n",
       "      <td>953</td>\n",
       "      <td>700</td>\n",
       "      <td>pb</td>\n",
       "    </tr>\n",
       "    <tr>\n",
       "      <th>9</th>\n",
       "      <td>929</td>\n",
       "      <td>650</td>\n",
       "      <td>pb</td>\n",
       "    </tr>\n",
       "    <tr>\n",
       "      <th>10</th>\n",
       "      <td>1492</td>\n",
       "      <td>975</td>\n",
       "      <td>pb</td>\n",
       "    </tr>\n",
       "    <tr>\n",
       "      <th>11</th>\n",
       "      <td>419</td>\n",
       "      <td>350</td>\n",
       "      <td>pb</td>\n",
       "    </tr>\n",
       "    <tr>\n",
       "      <th>12</th>\n",
       "      <td>1010</td>\n",
       "      <td>950</td>\n",
       "      <td>pb</td>\n",
       "    </tr>\n",
       "    <tr>\n",
       "      <th>13</th>\n",
       "      <td>595</td>\n",
       "      <td>425</td>\n",
       "      <td>pb</td>\n",
       "    </tr>\n",
       "    <tr>\n",
       "      <th>14</th>\n",
       "      <td>1034</td>\n",
       "      <td>725</td>\n",
       "      <td>pb</td>\n",
       "    </tr>\n",
       "  </tbody>\n",
       "</table>\n",
       "</div>"
      ],
      "text/plain": [
       "    volume  weight cover\n",
       "0      885     800    hb\n",
       "1     1016     950    hb\n",
       "2     1125    1050    hb\n",
       "3      239     350    hb\n",
       "4      701     750    hb\n",
       "5      641     600    hb\n",
       "6     1228    1075    hb\n",
       "7      412     250    pb\n",
       "8      953     700    pb\n",
       "9      929     650    pb\n",
       "10    1492     975    pb\n",
       "11     419     350    pb\n",
       "12    1010     950    pb\n",
       "13     595     425    pb\n",
       "14    1034     725    pb"
      ]
     },
     "execution_count": 3,
     "metadata": {},
     "output_type": "execute_result"
    }
   ],
   "source": [
    "books = pd.read_csv(\"https://sta663-sp22.github.io/slides/data/daag_books.csv\")\n",
    "books"
   ]
  },
  {
   "cell_type": "code",
   "execution_count": 4,
   "id": "e3c77939-3ac9-4740-858d-0276b404261a",
   "metadata": {},
   "outputs": [],
   "source": [
    "X, y = books[[\"volume\", \"cover\"]], books[\"weight\"]"
   ]
  },
  {
   "cell_type": "code",
   "execution_count": 7,
   "id": "0f327e39-472d-4148-8a19-998bf8b3a644",
   "metadata": {},
   "outputs": [],
   "source": [
    "p = make_pipeline(\n",
    "    PatsyTransformer(\"volume*cover\"),\n",
    "    LinearRegression(fit_intercept=False)\n",
    ")"
   ]
  },
  {
   "cell_type": "code",
   "execution_count": 8,
   "id": "8521ad12-ed72-4006-b867-3523217d72a7",
   "metadata": {},
   "outputs": [
    {
     "data": {
      "text/plain": [
       "Pipeline(steps=[('patsytransformer', PatsyTransformer(formula='volume*cover')),\n",
       "                ('linearregression', LinearRegression(fit_intercept=False))])"
      ]
     },
     "execution_count": 8,
     "metadata": {},
     "output_type": "execute_result"
    }
   ],
   "source": [
    "p.fit(X,y)"
   ]
  },
  {
   "cell_type": "code",
   "execution_count": 11,
   "id": "7ace2b25-5ba3-4fa6-83c6-d911d3c8eaf8",
   "metadata": {},
   "outputs": [
    {
     "data": {
      "text/plain": [
       "array([ 1.61586541e+02, -1.20214066e+02,  7.61592838e-01, -7.57336630e-02])"
      ]
     },
     "execution_count": 11,
     "metadata": {},
     "output_type": "execute_result"
    }
   ],
   "source": [
    "p.steps[1][1].coef_"
   ]
  },
  {
   "cell_type": "code",
   "execution_count": 13,
   "id": "59e215e6-4622-4c9e-ad83-b984a5405715",
   "metadata": {},
   "outputs": [
    {
     "data": {
      "text/plain": [
       "DesignInfo(['Intercept', 'cover[T.pb]', 'volume', 'volume:cover[T.pb]'],\n",
       "           factor_infos={EvalFactor('volume'): FactorInfo(factor=EvalFactor('volume'),\n",
       "                                    type='numerical',\n",
       "                                    state=<factor state>,\n",
       "                                    num_columns=1),\n",
       "                         EvalFactor('cover'): FactorInfo(factor=EvalFactor('cover'),\n",
       "                                    type='categorical',\n",
       "                                    state=<factor state>,\n",
       "                                    categories=('hb', 'pb'))},\n",
       "           term_codings=OrderedDict([(Term([]),\n",
       "                                      [SubtermInfo(factors=(),\n",
       "                                                   contrast_matrices={},\n",
       "                                                   num_columns=1)]),\n",
       "                                     (Term([EvalFactor('cover')]),\n",
       "                                      [SubtermInfo(factors=(EvalFactor('cover'),),\n",
       "                                                   contrast_matrices={EvalFactor('cover'): ContrastMatrix(array([[0.],\n",
       "                                                                                            [1.]]),\n",
       "                                                                                     ['[T.pb]'])},\n",
       "                                                   num_columns=1)]),\n",
       "                                     (Term([EvalFactor('volume')]),\n",
       "                                      [SubtermInfo(factors=(EvalFactor('volume'),),\n",
       "                                                   contrast_matrices={},\n",
       "                                                   num_columns=1)]),\n",
       "                                     (Term([EvalFactor('volume'),\n",
       "                                            EvalFactor('cover')]),\n",
       "                                      [SubtermInfo(factors=(EvalFactor('volume'),\n",
       "                                                            EvalFactor('cover')),\n",
       "                                                   contrast_matrices={EvalFactor('cover'): ContrastMatrix(array([[0.],\n",
       "                                                                                            [1.]]),\n",
       "                                                                                     ['[T.pb]'])},\n",
       "                                                   num_columns=1)])]))"
      ]
     },
     "execution_count": 13,
     "metadata": {},
     "output_type": "execute_result"
    }
   ],
   "source": [
    "p.steps[0][1].design_info_"
   ]
  },
  {
   "cell_type": "code",
   "execution_count": null,
   "id": "2ab08e8e-b3c7-4c68-8818-7164fa6550d2",
   "metadata": {},
   "outputs": [],
   "source": []
  }
 ],
 "metadata": {
  "kernelspec": {
   "display_name": "Python 3 (ipykernel)",
   "language": "python",
   "name": "python3"
  },
  "language_info": {
   "codemirror_mode": {
    "name": "ipython",
    "version": 3
   },
   "file_extension": ".py",
   "mimetype": "text/x-python",
   "name": "python",
   "nbconvert_exporter": "python",
   "pygments_lexer": "ipython3",
   "version": "3.10.2"
  }
 },
 "nbformat": 4,
 "nbformat_minor": 5
}
