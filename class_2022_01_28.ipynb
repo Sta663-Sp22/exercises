{
 "cells": [
  {
   "cell_type": "code",
   "execution_count": 1,
   "id": "cd733480-3011-40b9-959a-d8007d7d87ad",
   "metadata": {},
   "outputs": [],
   "source": [
    "import numpy as np\n",
    "import matplotlib.pyplot as plt\n",
    "import scipy"
   ]
  },
  {
   "cell_type": "markdown",
   "id": "aeca6afe-3410-43fa-9408-f2851f0d134f",
   "metadata": {},
   "source": [
    "## Example 1"
   ]
  },
  {
   "cell_type": "code",
   "execution_count": 2,
   "id": "1fa7688c-39e0-4097-800b-af2363773f18",
   "metadata": {},
   "outputs": [],
   "source": [
    "def mv_norm(x, μ, Σ):\n",
    "  x = np.asarray(x)\n",
    "  μ = np.asarray(μ)\n",
    "  Σ = np.asarray(Σ)\n",
    "  return np.linalg.det(2*np.pi*Σ)**(-0.5) * np.exp(-0.5 * (x - μ).T @ np.linalg.solve(Σ, (x-μ)) )"
   ]
  },
  {
   "cell_type": "code",
   "execution_count": 10,
   "id": "81010c2c-2aa3-4c98-bc42-32c0c7fbe891",
   "metadata": {},
   "outputs": [],
   "source": [
    "from scipy.integrate import quad, dblquad, tplquad\n"
   ]
  },
  {
   "cell_type": "code",
   "execution_count": 12,
   "id": "4e9181a6-2246-46e8-bb9f-3d54643bc88e",
   "metadata": {},
   "outputs": [
    {
     "name": "stdout",
     "output_type": "stream",
     "text": [
      "6.09 ms ± 83.4 µs per loop (mean ± std. dev. of 7 runs, 100 loops each)\n"
     ]
    }
   ],
   "source": [
    "%timeit quad(lambda x: mv_norm([x], [0], np.identity(1)), a=-np.inf, b=np.inf)"
   ]
  },
  {
   "cell_type": "code",
   "execution_count": 8,
   "id": "844f7393-62de-4ac2-97b0-65b48478bbad",
   "metadata": {},
   "outputs": [
    {
     "name": "stdout",
     "output_type": "stream",
     "text": [
      "916 ms ± 9.97 ms per loop (mean ± std. dev. of 7 runs, 1 loop each)\n"
     ]
    }
   ],
   "source": [
    "%timeit dblquad(lambda y, x: mv_norm([x,y], [0,0], np.identity(2)), a=-np.inf, b=np.inf, gfun=lambda x: -np.inf,   hfun=lambda x: np.inf)"
   ]
  },
  {
   "cell_type": "code",
   "execution_count": 9,
   "id": "a9374f40-28d4-4195-8c22-5e77b8c6dbc6",
   "metadata": {},
   "outputs": [
    {
     "name": "stdout",
     "output_type": "stream",
     "text": [
      "15.5 s ± 95.2 ms per loop (mean ± std. dev. of 7 runs, 1 loop each)\n"
     ]
    }
   ],
   "source": [
    "%timeit tplquad(lambda z, y, x: mv_norm([x,y,z], [0,0,0], np.identity(3)),a=0, b=np.inf, gfun=lambda x:   0, hfun=lambda x:   np.inf,qfun=lambda x,y: 0, rfun=lambda x,y: np.inf)"
   ]
  },
  {
   "cell_type": "code",
   "execution_count": null,
   "id": "f7540739-b789-4996-b17a-d794691468c0",
   "metadata": {},
   "outputs": [],
   "source": []
  }
 ],
 "metadata": {
  "kernelspec": {
   "display_name": "Python 3 (ipykernel)",
   "language": "python",
   "name": "python3"
  },
  "language_info": {
   "codemirror_mode": {
    "name": "ipython",
    "version": 3
   },
   "file_extension": ".py",
   "mimetype": "text/x-python",
   "name": "python",
   "nbconvert_exporter": "python",
   "pygments_lexer": "ipython3",
   "version": "3.9.10"
  }
 },
 "nbformat": 4,
 "nbformat_minor": 5
}
