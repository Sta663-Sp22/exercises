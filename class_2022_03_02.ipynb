{
 "cells": [
  {
   "cell_type": "markdown",
   "id": "bd90fb53-2cb6-46ed-8295-12e6ec23f7fe",
   "metadata": {},
   "source": [
    "## Setup"
   ]
  },
  {
   "cell_type": "code",
   "execution_count": null,
   "id": "92f376fb-4dfc-4084-988a-ee0f7dfdb593",
   "metadata": {},
   "outputs": [],
   "source": [
    "import numpy as np\n",
    "import matplotlib as mpl\n",
    "import matplotlib.pyplot as plt\n",
    "import pandas as pd\n",
    "import seaborn as sns\n",
    "\n",
    "import sklearn\n",
    "\n",
    "from sklearn.pipeline import make_pipeline\n",
    "from sklearn.preprocessing import OneHotEncoder, StandardScaler\n",
    "from sklearn.model_selection import GridSearchCV, KFold, StratifiedKFold, train_test_split"
   ]
  },
  {
   "cell_type": "markdown",
   "id": "a475f200-dc1a-4e91-88e4-1a2e76ede027",
   "metadata": {},
   "source": [
    "## Email data"
   ]
  },
  {
   "cell_type": "code",
   "execution_count": null,
   "id": "ca4ce9cc-ff4b-493f-bbe2-5d0ae5a097c2",
   "metadata": {},
   "outputs": [],
   "source": [
    "from sklearn.linear_model import LogisticRegression\n",
    "\n",
    "email = pd.read_csv(\n",
    "  'https://sta663-sp22.github.io/slides/data/email.csv'\n",
    ")[ [\n",
    "  'spam', 'exclaim_mess', 'format', 'num_char', 'line_breaks', 'number'\n",
    "] ]\n",
    "\n",
    "email_dc = pd.get_dummies(email)\n",
    "email_dc\n",
    "\n",
    "\n",
    "y = email_dc.spam\n",
    "X = email_dc.drop('spam', axis=1)\n",
    "\n",
    "m = LogisticRegression(fit_intercept = False).fit(X, y)"
   ]
  },
  {
   "cell_type": "markdown",
   "id": "0973d850-5fa3-4670-b4a0-e1a89c7f91fa",
   "metadata": {},
   "source": [
    "### Demo 1 - DescisionTreeClassifier\n",
    "https://scikit-learn.org/stable/modules/generated/sklearn.tree.DecisionTreeClassifier.html"
   ]
  },
  {
   "cell_type": "code",
   "execution_count": null,
   "id": "492b11e3-aff0-4bf2-9dea-04f82246a3a7",
   "metadata": {},
   "outputs": [],
   "source": []
  },
  {
   "cell_type": "markdown",
   "id": "2410b195-9625-4e97-aa5d-50dd67b833fb",
   "metadata": {},
   "source": [
    "### Demo 2 - SVC\n",
    "https://scikit-learn.org/stable/modules/generated/sklearn.svm.SVC.html|"
   ]
  },
  {
   "cell_type": "code",
   "execution_count": null,
   "id": "777aa58b-28ab-4d51-aa96-5681c77ebf5d",
   "metadata": {},
   "outputs": [],
   "source": []
  },
  {
   "cell_type": "markdown",
   "id": "7227c798-bb3c-469e-ae5e-0cdf836904c1",
   "metadata": {},
   "source": [
    "### Exercise 1"
   ]
  },
  {
   "cell_type": "code",
   "execution_count": null,
   "id": "c69c6d51-6e7a-405b-a023-1167ccb5b051",
   "metadata": {},
   "outputs": [],
   "source": [
    "from sklearn.datasets import load_digits\n",
    "digits = load_digits(as_frame=True)\n",
    "X, y = digits.data, digits.target\n",
    "X_train, X_test, y_train, y_test = train_test_split(\n",
    "    X, y, test_size=0.33, shuffle=True, random_state=1234\n",
    ")"
   ]
  },
  {
   "cell_type": "code",
   "execution_count": null,
   "id": "7decc22d-c17a-4d85-8073-aff6a189c3b2",
   "metadata": {},
   "outputs": [],
   "source": []
  }
 ],
 "metadata": {
  "kernelspec": {
   "display_name": "Python 3 (ipykernel)",
   "language": "python",
   "name": "python3"
  },
  "language_info": {
   "codemirror_mode": {
    "name": "ipython",
    "version": 3
   },
   "file_extension": ".py",
   "mimetype": "text/x-python",
   "name": "python",
   "nbconvert_exporter": "python",
   "pygments_lexer": "ipython3",
   "version": "3.10.2"
  }
 },
 "nbformat": 4,
 "nbformat_minor": 5
}
