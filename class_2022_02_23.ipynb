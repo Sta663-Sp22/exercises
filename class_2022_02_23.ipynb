{
 "cells": [
  {
   "cell_type": "code",
   "execution_count": 5,
   "id": "cb4aeee0-363f-43d3-b21b-417179c6ea4b",
   "metadata": {},
   "outputs": [],
   "source": [
    "import pandas as pd\n",
    "import numpy as np\n",
    "import seaborn as sns\n",
    "import matplotlib.pyplot as plt"
   ]
  },
  {
   "cell_type": "markdown",
   "id": "827935e1-4de1-414c-813f-e92ef7b1e9ef",
   "metadata": {},
   "source": [
    "## Exercise 1\n",
    "\n",
    "Data url - https://sta663-sp22.github.io/slides/data/daag_books.csv"
   ]
  },
  {
   "cell_type": "code",
   "execution_count": 16,
   "id": "8a950e4a-039f-41dc-99d1-1ea20efede65",
   "metadata": {},
   "outputs": [],
   "source": [
    "books = pd.read_csv(\"https://sta663-sp22.github.io/slides/data/daag_books.csv\")"
   ]
  },
  {
   "cell_type": "code",
   "execution_count": 14,
   "id": "f0a94338-6f01-4858-bc70-146b7a9c41fa",
   "metadata": {},
   "outputs": [],
   "source": [
    "from sklearn.linear_model import LinearRegression\n",
    "from sklearn.preprocessing import OneHotEncoder"
   ]
  },
  {
   "cell_type": "code",
   "execution_count": 20,
   "id": "05293f7f-58c1-4bd8-b387-1ce3218f1f8a",
   "metadata": {},
   "outputs": [],
   "source": [
    "cover = pd.get_dummies(books[[\"cover\"]], drop_first = True)"
   ]
  },
  {
   "cell_type": "code",
   "execution_count": 22,
   "id": "4def40bb-199e-4f70-a75f-4173bce32edb",
   "metadata": {},
   "outputs": [
    {
     "data": {
      "text/plain": [
       "array([[ 885,    0,    0],\n",
       "       [1016,    0,    0],\n",
       "       [1125,    0,    0],\n",
       "       [ 239,    0,    0],\n",
       "       [ 701,    0,    0],\n",
       "       [ 641,    0,    0],\n",
       "       [1228,    0,    0],\n",
       "       [ 412,    1,  412],\n",
       "       [ 953,    1,  953],\n",
       "       [ 929,    1,  929],\n",
       "       [1492,    1, 1492],\n",
       "       [ 419,    1,  419],\n",
       "       [1010,    1, 1010],\n",
       "       [ 595,    1,  595],\n",
       "       [1034,    1, 1034]])"
      ]
     },
     "execution_count": 22,
     "metadata": {},
     "output_type": "execute_result"
    }
   ],
   "source": [
    "X = np.c_[\n",
    "    books.volume,\n",
    "    cover.cover_pb,\n",
    "    cover.cover_pb * books.volume\n",
    "]\n",
    "X"
   ]
  },
  {
   "cell_type": "code",
   "execution_count": 23,
   "id": "48ff185c-7a34-4f90-aac9-46d1323f04fa",
   "metadata": {},
   "outputs": [],
   "source": [
    "lm = LinearRegression(\n",
    ").fit(\n",
    "    X = X,\n",
    "    y = books.weight\n",
    ")\n",
    "\n"
   ]
  },
  {
   "cell_type": "code",
   "execution_count": 24,
   "id": "f3c85389-7101-4e61-8fa4-48e1b9c75559",
   "metadata": {},
   "outputs": [
    {
     "data": {
      "text/plain": [
       "(161.58654141104432,\n",
       " array([ 7.61592838e-01, -1.20214066e+02, -7.57336630e-02]))"
      ]
     },
     "execution_count": 24,
     "metadata": {},
     "output_type": "execute_result"
    }
   ],
   "source": [
    "( lm.intercept_,\n",
    "  lm.coef_\n",
    ")"
   ]
  },
  {
   "cell_type": "code",
   "execution_count": null,
   "id": "40c133fd-b996-4b51-af73-66f87c314897",
   "metadata": {},
   "outputs": [],
   "source": []
  }
 ],
 "metadata": {
  "kernelspec": {
   "display_name": "Python 3 (ipykernel)",
   "language": "python",
   "name": "python3"
  },
  "language_info": {
   "codemirror_mode": {
    "name": "ipython",
    "version": 3
   },
   "file_extension": ".py",
   "mimetype": "text/x-python",
   "name": "python",
   "nbconvert_exporter": "python",
   "pygments_lexer": "ipython3",
   "version": "3.10.2"
  }
 },
 "nbformat": 4,
 "nbformat_minor": 5
}
