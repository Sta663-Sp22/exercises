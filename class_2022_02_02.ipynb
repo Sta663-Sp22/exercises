{
 "cells": [
  {
   "cell_type": "code",
   "execution_count": null,
   "id": "c3732ad7-955d-44b3-8b6c-20910af6d75d",
   "metadata": {},
   "outputs": [],
   "source": [
    "import pandas as pd\n",
    "import numpy as np"
   ]
  },
  {
   "cell_type": "code",
   "execution_count": null,
   "id": "945d8fd4-e849-4ec1-8c6e-be2d3cfce7b6",
   "metadata": {},
   "outputs": [],
   "source": [
    "n = 5\n",
    "d = {\n",
    "  \"id\":     np.random.randint(100, 999, n),\n",
    "  \"weight\": np.random.normal(70, 20, n),\n",
    "  \"height\": np.random.normal(170, 15, n),\n",
    "  \"date\":   pd.date_range(start='2/1/2022', periods=n, freq='D')\n",
    "}\n",
    "df = pd.DataFrame(d)"
   ]
  },
  {
   "cell_type": "code",
   "execution_count": null,
   "id": "7ca969f8-55f3-4de7-9670-743d32892031",
   "metadata": {},
   "outputs": [],
   "source": [
    "print(\"Hello world!\")"
   ]
  },
  {
   "cell_type": "code",
   "execution_count": null,
   "id": "0f433108-aa45-4b26-bf4b-42563df52c68",
   "metadata": {},
   "outputs": [],
   "source": [
    "df.loc[0:2, \"weight\":\"height\"]"
   ]
  },
  {
   "cell_type": "code",
   "execution_count": null,
   "id": "e33c1002-fcd2-417b-92ee-fbdce39df849",
   "metadata": {},
   "outputs": [],
   "source": []
  }
 ],
 "metadata": {
  "kernelspec": {
   "display_name": "Python 3 (ipykernel)",
   "language": "python",
   "name": "python3"
  },
  "language_info": {
   "codemirror_mode": {
    "name": "ipython",
    "version": 3
   },
   "file_extension": ".py",
   "mimetype": "text/x-python",
   "name": "python",
   "nbconvert_exporter": "python",
   "pygments_lexer": "ipython3",
   "version": "3.9.5"
  }
 },
 "nbformat": 4,
 "nbformat_minor": 5
}
