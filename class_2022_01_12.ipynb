{
 "cells": [
  {
   "cell_type": "markdown",
   "id": "201c540e-e4c6-4ac8-a33a-1e97d3725ecf",
   "metadata": {},
   "source": [
    "### Exercise 1"
   ]
  },
  {
   "cell_type": "code",
   "execution_count": 1,
   "id": "d911ac43-d930-409f-a761-ae4f691d2e0b",
   "metadata": {},
   "outputs": [],
   "source": [
    "d = [0, 1, 2, 3, 4, 5, 6, 7, 8, 9]"
   ]
  },
  {
   "cell_type": "code",
   "execution_count": 2,
   "id": "c0db411a-5845-4a67-a515-7729e203575b",
   "metadata": {},
   "outputs": [
    {
     "data": {
      "text/plain": [
       "[1, 3, 5, 7, 9]"
      ]
     },
     "execution_count": 2,
     "metadata": {},
     "output_type": "execute_result"
    }
   ],
   "source": [
    "# Select only the odd values in this list\n",
    "d[1::2]"
   ]
  },
  {
   "cell_type": "code",
   "execution_count": 3,
   "id": "b2d64a8c-5084-43d0-af36-a15889be7c4d",
   "metadata": {},
   "outputs": [
    {
     "data": {
      "text/plain": [
       "[1, 4, 7]"
      ]
     },
     "execution_count": 3,
     "metadata": {},
     "output_type": "execute_result"
    }
   ],
   "source": [
    "# Select every 3rd value starting from the 2nd element.\n",
    "d[1::3]"
   ]
  },
  {
   "cell_type": "code",
   "execution_count": 4,
   "id": "3cd16559-e9e6-4b92-b68e-873257855648",
   "metadata": {},
   "outputs": [
    {
     "data": {
      "text/plain": [
       "[8, 6, 4, 2, 0]"
      ]
     },
     "execution_count": 4,
     "metadata": {},
     "output_type": "execute_result"
    }
   ],
   "source": [
    "# Select every other value, in reverse order, starting from the 9th element.\n",
    "d[-2::-2]"
   ]
  },
  {
   "cell_type": "code",
   "execution_count": 5,
   "id": "23d6fb12-e8df-4799-a0b0-1e9d96baeceb",
   "metadata": {},
   "outputs": [
    {
     "data": {
      "text/plain": [
       "[2, 4, 9]"
      ]
     },
     "execution_count": 5,
     "metadata": {},
     "output_type": "execute_result"
    }
   ],
   "source": [
    "# Select the 3rd element, the 5th element, and the 10th element\n",
    "d[2:5:2]  + [ d[-1] ]"
   ]
  },
  {
   "cell_type": "markdown",
   "id": "21e97913-3ea3-4238-8c8b-5272a1b450df",
   "metadata": {},
   "source": [
    "### Exercise 2"
   ]
  },
  {
   "cell_type": "code",
   "execution_count": 6,
   "id": "90d16154-40bb-4bd5-9770-1c22776a14fd",
   "metadata": {},
   "outputs": [
    {
     "data": {
      "text/plain": [
       "'The quick brown fox jumped over a lazy dog.'"
      ]
     },
     "execution_count": 6,
     "metadata": {},
     "output_type": "execute_result"
    }
   ],
   "source": [
    "# take the given string below and apply the necessary methods to create the target string\n",
    "source = \"the quick  Brown   fox Jumped  over   a Lazy  dog\"\n",
    "target = \"The quick brown fox jumped over a lazy dog.\"\n",
    "\n",
    "soln = source.replace(\"   \", \" \").replace(\"  \", \" \").lower().capitalize() + \".\"\n",
    "soln = source.replace(\"   \", \" \").replace(\"  \", \" \").lower().capitalize().replace(\"dog\", \"dog.\")\n",
    "soln"
   ]
  },
  {
   "cell_type": "code",
   "execution_count": 7,
   "id": "475582dc-680f-4646-8b9a-d52a2af7300f",
   "metadata": {},
   "outputs": [
    {
     "data": {
      "text/plain": [
       "True"
      ]
     },
     "execution_count": 7,
     "metadata": {},
     "output_type": "execute_result"
    }
   ],
   "source": [
    "target == soln"
   ]
  }
 ],
 "metadata": {
  "kernelspec": {
   "display_name": "Python 3 (ipykernel)",
   "language": "python",
   "name": "python3"
  },
  "language_info": {
   "codemirror_mode": {
    "name": "ipython",
    "version": 3
   },
   "file_extension": ".py",
   "mimetype": "text/x-python",
   "name": "python",
   "nbconvert_exporter": "python",
   "pygments_lexer": "ipython3",
   "version": "3.9.5"
  }
 },
 "nbformat": 4,
 "nbformat_minor": 5
}
