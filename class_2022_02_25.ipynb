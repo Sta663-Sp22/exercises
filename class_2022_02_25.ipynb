{
 "cells": [
  {
   "cell_type": "code",
   "execution_count": 1,
   "id": "b01314bd-8c11-48c1-904b-6fb2bdcf9a7f",
   "metadata": {},
   "outputs": [],
   "source": [
    "import pandas as pd\n",
    "import numpy as np\n",
    "import seaborn as sns\n",
    "import matplotlib.pyplot as plt"
   ]
  },
  {
   "cell_type": "markdown",
   "id": "9c9b05cf-3094-4f15-a057-25ac590fc02a",
   "metadata": {},
   "source": [
    "## Example 1"
   ]
  },
  {
   "cell_type": "code",
   "execution_count": 2,
   "id": "e6c487f4-1379-40ff-aae0-a9a5bc74d4e9",
   "metadata": {},
   "outputs": [],
   "source": [
    "from sklearn.linear_model import LinearRegression\n",
    "from sklearn.preprocessing import OneHotEncoder, PolynomialFeatures\n",
    "from sklearn.pipeline import make_pipeline\n",
    "from sklearn.compose import make_column_transformer, make_column_selector"
   ]
  },
  {
   "cell_type": "code",
   "execution_count": 5,
   "id": "3dbda289-1087-4386-82c9-0424a36f1067",
   "metadata": {},
   "outputs": [],
   "source": [
    "books = pd.read_csv(\"https://sta663-sp22.github.io/slides/data/daag_books.csv\")"
   ]
  },
  {
   "cell_type": "code",
   "execution_count": 19,
   "id": "298b81ff-8bc4-4c70-9a4e-e391b2377eab",
   "metadata": {},
   "outputs": [
    {
     "name": "stdout",
     "output_type": "stream",
     "text": [
      "Pipeline(steps=[('columntransformer',\n",
      "                 ColumnTransformer(remainder='passthrough',\n",
      "                                   transformers=[('onehotencoder',\n",
      "                                                  OneHotEncoder(drop='first'),\n",
      "                                                  <sklearn.compose._column_transformer.make_column_selector object at 0x7f6265cbcaf0>)])),\n",
      "                ('polynomialfeatures',\n",
      "                 PolynomialFeatures(include_bias=False, interaction_only=True)),\n",
      "                ('linearregression', LinearRegression())])\n",
      "['volume' 'cover']\n",
      "['onehotencoder__cover_pb' 'remainder__volume'\n",
      " 'onehotencoder__cover_pb remainder__volume']\n"
     ]
    }
   ],
   "source": [
    "p = make_pipeline(\n",
    "    make_column_transformer(\n",
    "        (OneHotEncoder(drop=\"first\"), make_column_selector(dtype_include=object)),\n",
    "        remainder = \"passthrough\"\n",
    "    ),\n",
    "    PolynomialFeatures(degree=2, interaction_only=True, include_bias=False),\n",
    "    LinearRegression()\n",
    ")\n",
    "\n",
    "print(p.fit(books.drop([\"weight\"], axis=1), books.weight))\n",
    "print(p.feature_names_in_)\n",
    "print(p[:-1].get_feature_names_out())"
   ]
  },
  {
   "cell_type": "code",
   "execution_count": 22,
   "id": "19f51beb-7fa1-4bdf-9a9b-6064aa95ebbd",
   "metadata": {},
   "outputs": [
    {
     "name": "stdout",
     "output_type": "stream",
     "text": [
      "161.58654141102681\n",
      "[-1.20214066e+02  7.61592838e-01 -7.57336630e-02]\n"
     ]
    }
   ],
   "source": [
    "print( p.named_steps[\"linearregression\"].intercept_ )\n",
    "print( p.named_steps[\"linearregression\"].coef_ )"
   ]
  },
  {
   "cell_type": "code",
   "execution_count": 24,
   "id": "cabbbea9-0e2b-49a3-8235-afe1809f5370",
   "metadata": {},
   "outputs": [
    {
     "data": {
      "text/plain": [
       "dict_keys(['memory', 'steps', 'verbose', 'columntransformer', 'polynomialfeatures', 'linearregression', 'columntransformer__n_jobs', 'columntransformer__remainder', 'columntransformer__sparse_threshold', 'columntransformer__transformer_weights', 'columntransformer__transformers', 'columntransformer__verbose', 'columntransformer__verbose_feature_names_out', 'columntransformer__onehotencoder', 'columntransformer__onehotencoder__categories', 'columntransformer__onehotencoder__drop', 'columntransformer__onehotencoder__dtype', 'columntransformer__onehotencoder__handle_unknown', 'columntransformer__onehotencoder__sparse', 'polynomialfeatures__degree', 'polynomialfeatures__include_bias', 'polynomialfeatures__interaction_only', 'polynomialfeatures__order', 'linearregression__copy_X', 'linearregression__fit_intercept', 'linearregression__n_jobs', 'linearregression__normalize', 'linearregression__positive'])"
      ]
     },
     "execution_count": 24,
     "metadata": {},
     "output_type": "execute_result"
    }
   ],
   "source": [
    "p.get_params().keys()"
   ]
  },
  {
   "cell_type": "markdown",
   "id": "8ade81fe-5dec-4216-a283-cd53d1b66925",
   "metadata": {},
   "source": [
    "## Exercise 1"
   ]
  },
  {
   "cell_type": "code",
   "execution_count": 25,
   "id": "ee18b4d0-61cc-4f98-bb6e-1f9b8c93af26",
   "metadata": {},
   "outputs": [],
   "source": [
    "from sklearn.linear_model import Lasso\n",
    "from sklearn.preprocessing import StandardScaler\n",
    "from sklearn.pipeline import make_pipeline\n",
    "from sklearn.model_selection import GridSearchCV, KFold"
   ]
  },
  {
   "cell_type": "code",
   "execution_count": 26,
   "id": "eaf8d458-332e-4be2-ac3f-b5ecfbf08b47",
   "metadata": {},
   "outputs": [],
   "source": [
    "from sklearn import datasets\n",
    "X, y = datasets.load_diabetes(return_X_y=True)"
   ]
  },
  {
   "cell_type": "code",
   "execution_count": 29,
   "id": "805d46d1-5f35-4c87-b11b-952470df0c34",
   "metadata": {},
   "outputs": [
    {
     "data": {
      "text/html": [
       "<div>\n",
       "<style scoped>\n",
       "    .dataframe tbody tr th:only-of-type {\n",
       "        vertical-align: middle;\n",
       "    }\n",
       "\n",
       "    .dataframe tbody tr th {\n",
       "        vertical-align: top;\n",
       "    }\n",
       "\n",
       "    .dataframe thead th {\n",
       "        text-align: right;\n",
       "    }\n",
       "</style>\n",
       "<table border=\"1\" class=\"dataframe\">\n",
       "  <thead>\n",
       "    <tr style=\"text-align: right;\">\n",
       "      <th></th>\n",
       "      <th>0</th>\n",
       "      <th>1</th>\n",
       "      <th>2</th>\n",
       "      <th>3</th>\n",
       "      <th>4</th>\n",
       "      <th>5</th>\n",
       "      <th>6</th>\n",
       "      <th>7</th>\n",
       "      <th>8</th>\n",
       "      <th>9</th>\n",
       "    </tr>\n",
       "  </thead>\n",
       "  <tbody>\n",
       "    <tr>\n",
       "      <th>mean</th>\n",
       "      <td>-3.639623e-16</td>\n",
       "      <td>1.309912e-16</td>\n",
       "      <td>-8.013951e-16</td>\n",
       "      <td>1.289818e-16</td>\n",
       "      <td>-9.042540e-17</td>\n",
       "      <td>1.301121e-16</td>\n",
       "      <td>-4.563971e-16</td>\n",
       "      <td>3.863174e-16</td>\n",
       "      <td>-3.848103e-16</td>\n",
       "      <td>-3.398488e-16</td>\n",
       "    </tr>\n",
       "    <tr>\n",
       "      <th>std</th>\n",
       "      <td>4.761905e-02</td>\n",
       "      <td>4.761905e-02</td>\n",
       "      <td>4.761905e-02</td>\n",
       "      <td>4.761905e-02</td>\n",
       "      <td>4.761905e-02</td>\n",
       "      <td>4.761905e-02</td>\n",
       "      <td>4.761905e-02</td>\n",
       "      <td>4.761905e-02</td>\n",
       "      <td>4.761905e-02</td>\n",
       "      <td>4.761905e-02</td>\n",
       "    </tr>\n",
       "  </tbody>\n",
       "</table>\n",
       "</div>"
      ],
      "text/plain": [
       "                 0             1             2             3             4  \\\n",
       "mean -3.639623e-16  1.309912e-16 -8.013951e-16  1.289818e-16 -9.042540e-17   \n",
       "std   4.761905e-02  4.761905e-02  4.761905e-02  4.761905e-02  4.761905e-02   \n",
       "\n",
       "                 5             6             7             8             9  \n",
       "mean  1.301121e-16 -4.563971e-16  3.863174e-16 -3.848103e-16 -3.398488e-16  \n",
       "std   4.761905e-02  4.761905e-02  4.761905e-02  4.761905e-02  4.761905e-02  "
      ]
     },
     "execution_count": 29,
     "metadata": {},
     "output_type": "execute_result"
    }
   ],
   "source": [
    "pd.DataFrame(data=X).agg([np.mean, np.std])"
   ]
  },
  {
   "cell_type": "code",
   "execution_count": 30,
   "id": "a53be6e4-30d8-4e2b-9de2-f4afd0cc5982",
   "metadata": {},
   "outputs": [],
   "source": [
    "p = make_pipeline(\n",
    "    StandardScaler(),\n",
    "    Lasso()\n",
    ")"
   ]
  },
  {
   "cell_type": "code",
   "execution_count": 31,
   "id": "324c2cd1-2ef0-4308-8218-480eff13a2ea",
   "metadata": {},
   "outputs": [],
   "source": [
    "gs = GridSearchCV(\n",
    "  p,\n",
    "  param_grid = {\"lasso__alpha\": np.logspace(-4, 1, 100)},\n",
    "  scoring = 'neg_root_mean_squared_error',\n",
    "  cv = KFold(10, shuffle=True, random_state=12345)\n",
    ").fit(\n",
    "  X, y\n",
    ")"
   ]
  },
  {
   "cell_type": "code",
   "execution_count": 32,
   "id": "1eb8acb0-f967-490e-9911-e29e6b32169b",
   "metadata": {},
   "outputs": [
    {
     "name": "stdout",
     "output_type": "stream",
     "text": [
      "{'lasso__alpha': 0.08497534359086438}\n",
      "58\n",
      "-54.45861683872378\n",
      "Pipeline(steps=[('standardscaler', StandardScaler()),\n",
      "                ('lasso', Lasso(alpha=0.08497534359086438))])\n"
     ]
    }
   ],
   "source": [
    "print(gs.best_params_)\n",
    "print(gs.best_index_)\n",
    "print(gs.best_score_)\n",
    "print(gs.best_estimator_)\n"
   ]
  },
  {
   "cell_type": "code",
   "execution_count": 35,
   "id": "cf481f52-8e14-4e51-925b-c8935bd302f2",
   "metadata": {},
   "outputs": [
    {
     "data": {
      "image/png": "[encoded data removed]",
      "text/plain": [
       "<Figure size 432x288 with 1 Axes>"
      ]
     },
     "metadata": {
      "needs_background": "light"
     },
     "output_type": "display_data"
    }
   ],
   "source": [
    "alpha = np.array(gs.cv_results_[\"param_lasso__alpha\"], dtype=\"float64\")\n",
    "score = -gs.cv_results_[\"mean_test_score\"]\n",
    "score_std = gs.cv_results_[\"std_test_score\"]\n",
    "n_folds = gs.cv.get_n_splits()\n",
    "\n",
    "plt.figure(layout=\"constrained\")\n",
    "\n",
    "ax = sns.lineplot(x=alpha, y=score)\n",
    "ax.set_xscale(\"log\")\n",
    "\n",
    "plt.fill_between(\n",
    "  x = alpha,\n",
    "  y1 = score + 1.96*score_std / np.sqrt(n_folds),\n",
    "  y2 = score - 1.96*score_std / np.sqrt(n_folds),\n",
    "  alpha = 0.2\n",
    ")\n",
    "\n",
    "ax.set_xlim(1e-5, 10)\n",
    "#ax.set_ylim(54.4, 54.6)\n",
    "\n",
    "plt.show()"
   ]
  },
  {
   "cell_type": "code",
   "execution_count": 36,
   "id": "4a65ae18-298f-400a-a767-e01687db0b5b",
   "metadata": {},
   "outputs": [
    {
     "data": {
      "image/png": "[encoded data removed]",
      "text/plain": [
       "<Figure size 768.25x360 with 1 Axes>"
      ]
     },
     "metadata": {
      "needs_background": "light"
     },
     "output_type": "display_data"
    }
   ],
   "source": [
    "alpha = np.logspace(-4, 2, 100)\n",
    "betas = []\n",
    "\n",
    "for a in alpha:\n",
    "    p = p.set_params(lasso__alpha = a)\n",
    "    p = p.fit(X, y)\n",
    "    \n",
    "    betas.append(p.named_steps[\"lasso\"].coef_)\n",
    "\n",
    "res = pd.DataFrame(\n",
    "  data = betas, columns = p[:-1].get_feature_names_out()\n",
    ").assign(\n",
    "  alpha = alpha  \n",
    ")\n",
    "\n",
    "res\n",
    "\n",
    "\n",
    "g = sns.relplot(\n",
    "  data = res.melt(id_vars=\"alpha\", value_name=\"coef values\", var_name=\"feature\"),\n",
    "  x = \"alpha\", y = \"coef values\", hue = \"feature\",\n",
    "  kind = \"line\", aspect=2\n",
    ")\n",
    "g.set(xscale=\"log\")\n",
    "plt.axvline(x = gs.best_params_[\"lasso__alpha\"], color=\"k\", linestyle=\"--\")\n",
    "plt.show()"
   ]
  },
  {
   "cell_type": "code",
   "execution_count": null,
   "id": "784a5b19-96cc-46d9-aecd-fcc0f8d58358",
   "metadata": {},
   "outputs": [],
   "source": []
  }
 ],
 "metadata": {
  "kernelspec": {
   "display_name": "Python 3 (ipykernel)",
   "language": "python",
   "name": "python3"
  },
  "language_info": {
   "codemirror_mode": {
    "name": "ipython",
    "version": 3
   },
   "file_extension": ".py",
   "mimetype": "text/x-python",
   "name": "python",
   "nbconvert_exporter": "python",
   "pygments_lexer": "ipython3",
   "version": "3.10.2"
  }
 },
 "nbformat": 4,
 "nbformat_minor": 5
}
