{
 "cells": [
  {
   "cell_type": "markdown",
   "id": "1a0bddd8-1ff9-4556-966d-bba3ddc25fd6",
   "metadata": {},
   "source": [
    "## Example\n",
    "\n",
    "Least squares,\n",
    "$$\\underset{\\beta}{\\operatorname{argmin}} \\left(y - X \\beta \\right)^2$$\n",
    "$$\\beta = (X^T X)^{-1} X^T y$$\n"
   ]
  },
  {
   "cell_type": "code",
   "execution_count": 1,
   "id": "fdbb8ef6-49d0-410c-a0f7-5b8136805c23",
   "metadata": {},
   "outputs": [],
   "source": [
    "# Setup\n",
    "\n",
    "import numpy as np\n",
    "\n",
    "rng = np.random.default_rng(seed=1234)\n",
    "n = 1000"
   ]
  },
  {
   "cell_type": "code",
   "execution_count": 2,
   "id": "0a062ada-e030-420a-89e3-007edf3fc15d",
   "metadata": {},
   "outputs": [],
   "source": [
    "# Setup model\n",
    "\n",
    "X = np.hstack([\n",
    "    np.ones((n,1)),\n",
    "    rng.random((n, 5))\n",
    "])\n",
    "\n",
    "beta = np.array([7, -3.3, 2.4, 1.5, 9.7, -10])\n",
    "\n",
    "err = rng.normal(0, 1, size = n)\n",
    "\n",
    "y = X @ beta + err"
   ]
  },
  {
   "cell_type": "code",
   "execution_count": 3,
   "id": "171fa5b9-abd8-4fbc-9c87-869aed80e6a8",
   "metadata": {},
   "outputs": [
    {
     "name": "stdout",
     "output_type": "stream",
     "text": [
      "[  6.96057538  -3.11687304   2.18914994   1.61036002   9.76492687\n",
      " -10.01855161]\n",
      "[  7.   -3.3   2.4   1.5   9.7 -10. ]\n"
     ]
    }
   ],
   "source": [
    "## Fit model\n",
    "\n",
    "beta_hat = np.linalg.inv(X.T @ X) @ X.T @ y\n",
    "\n",
    "print(beta_hat)\n",
    "\n",
    "print(beta)"
   ]
  },
  {
   "cell_type": "code",
   "execution_count": null,
   "id": "ea2132ba-813b-4e85-a2a3-a561d50215e4",
   "metadata": {},
   "outputs": [],
   "source": []
  }
 ],
 "metadata": {
  "kernelspec": {
   "display_name": "Python 3 (ipykernel)",
   "language": "python",
   "name": "python3"
  },
  "language_info": {
   "codemirror_mode": {
    "name": "ipython",
    "version": 3
   },
   "file_extension": ".py",
   "mimetype": "text/x-python",
   "name": "python",
   "nbconvert_exporter": "python",
   "pygments_lexer": "ipython3",
   "version": "3.9.5"
  }
 },
 "nbformat": 4,
 "nbformat_minor": 5
}
