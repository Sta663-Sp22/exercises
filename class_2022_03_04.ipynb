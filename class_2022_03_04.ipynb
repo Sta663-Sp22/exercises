{
 "cells": [
  {
   "cell_type": "markdown",
   "id": "bd90fb53-2cb6-46ed-8295-12e6ec23f7fe",
   "metadata": {},
   "source": [
    "## Setup"
   ]
  },
  {
   "cell_type": "code",
   "execution_count": 1,
   "id": "92f376fb-4dfc-4084-988a-ee0f7dfdb593",
   "metadata": {},
   "outputs": [],
   "source": [
    "import numpy as np\n",
    "import matplotlib as mpl\n",
    "import matplotlib.pyplot as plt\n",
    "import pandas as pd\n",
    "import seaborn as sns\n",
    "\n",
    "import sklearn\n"
   ]
  },
  {
   "cell_type": "markdown",
   "id": "a475f200-dc1a-4e91-88e4-1a2e76ede027",
   "metadata": {},
   "source": [
    "## Demo"
   ]
  },
  {
   "cell_type": "code",
   "execution_count": 32,
   "id": "ca4ce9cc-ff4b-493f-bbe2-5d0ae5a097c2",
   "metadata": {},
   "outputs": [],
   "source": [
    "from sklearn.base import BaseEstimator, TransformerMixin\n",
    "from sklearn.utils.validation import check_is_fitted\n",
    "\n",
    "W = pd.DataFrame({\"x1\": range(1,6), \"x3\": range(5, 0, -1)})\n",
    "X = pd.DataFrame({\"x1\": range(1,6), \"x2\": range(5, 0, -1)})\n",
    "Y = pd.DataFrame({\"x1\": range(1,6)})\n",
    "Z = np.array(X)"
   ]
  },
  {
   "cell_type": "code",
   "execution_count": 81,
   "id": "02bc72ef-3c9b-4380-8a97-5943a13e7332",
   "metadata": {},
   "outputs": [],
   "source": [
    "class interact_features(BaseEstimator, TransformerMixin):\n",
    "    def __init__(self, interaction_only=False):\n",
    "        self.interaction_only = interaction_only\n",
    "        \n",
    "    def fit(self, X, y=None):\n",
    "        self._validate_data(X=X, reset=True, ensure_min_features=2)\n",
    "        \n",
    "        return self\n",
    "    \n",
    "    def transform(self, X, y=None):\n",
    "        self._validate_data(X=X, reset=False)\n",
    "        check_is_fitted(self)\n",
    "        \n",
    "        X = np.array(X)\n",
    "        new_cols = []\n",
    "        for i in range(self.n_features_in_-1):\n",
    "            for j in range(i+1, self.n_features_in_):\n",
    "                new_cols.append( X[:,i] * X[:,j] )\n",
    "        \n",
    "        X_new = np.column_stack(new_cols)\n",
    "        \n",
    "        if not self.interaction_only:\n",
    "            X_new = np.column_stack([X, X_new])\n",
    "        \n",
    "        return X_new\n",
    "\n",
    "    def get_feature_names_out(self):\n",
    "        check_is_fitted(self)\n",
    "        \n",
    "        if not hasattr(self, \"feature_names_in_\"):\n",
    "            feat_names = [\"x\" + str(i) for i in range(self.n_features_in_)]\n",
    "        else:\n",
    "            feat_names = list(self.feature_names_in_)\n",
    "        \n",
    "        new_feat_names = []\n",
    "        for i in range(self.n_features_in_-1):\n",
    "            for j in range(i+1, self.n_features_in_):\n",
    "                new_feat_names.append( feat_names[i] + \" * \" + feat_names[j] )\n",
    "    \n",
    "        if not self.interaction_only:\n",
    "            new_feat_names = feat_names + new_feat_names \n",
    "        \n",
    "        return new_feat_names"
   ]
  },
  {
   "cell_type": "code",
   "execution_count": 78,
   "id": "48821cb9-b243-4791-a1d9-c4844a0eeb59",
   "metadata": {},
   "outputs": [],
   "source": [
    "itf = interact_features().fit(X)"
   ]
  },
  {
   "cell_type": "code",
   "execution_count": 79,
   "id": "d3effdda-c10e-4e6c-ad97-641d1783c925",
   "metadata": {},
   "outputs": [
    {
     "data": {
      "text/plain": [
       "array([[1, 5, 5],\n",
       "       [2, 4, 8],\n",
       "       [3, 3, 9],\n",
       "       [4, 2, 8],\n",
       "       [5, 1, 5]])"
      ]
     },
     "execution_count": 79,
     "metadata": {},
     "output_type": "execute_result"
    }
   ],
   "source": [
    "itf.transform(X)"
   ]
  },
  {
   "cell_type": "code",
   "execution_count": 80,
   "id": "068ed9f5-0e79-40ac-876a-e627a8252546",
   "metadata": {},
   "outputs": [
    {
     "name": "stdout",
     "output_type": "stream",
     "text": [
      "['x1', 'x2']\n",
      "['x1 * x2']\n",
      "['x1', 'x2', 'x1 * x2']\n"
     ]
    },
    {
     "data": {
      "text/plain": [
       "['x1', 'x2', 'x1 * x2']"
      ]
     },
     "execution_count": 80,
     "metadata": {},
     "output_type": "execute_result"
    }
   ],
   "source": [
    "itf.get_feature_names_out()"
   ]
  },
  {
   "cell_type": "code",
   "execution_count": null,
   "id": "da97f189-115b-4689-a74a-279762be4f2b",
   "metadata": {},
   "outputs": [],
   "source": []
  }
 ],
 "metadata": {
  "kernelspec": {
   "display_name": "Python 3 (ipykernel)",
   "language": "python",
   "name": "python3"
  },
  "language_info": {
   "codemirror_mode": {
    "name": "ipython",
    "version": 3
   },
   "file_extension": ".py",
   "mimetype": "text/x-python",
   "name": "python",
   "nbconvert_exporter": "python",
   "pygments_lexer": "ipython3",
   "version": "3.10.2"
  }
 },
 "nbformat": 4,
 "nbformat_minor": 5
}
