{
 "cells": [
  {
   "cell_type": "markdown",
   "id": "1a0bddd8-1ff9-4556-966d-bba3ddc25fd6",
   "metadata": {},
   "source": [
    "### Exercise 1"
   ]
  },
  {
   "cell_type": "code",
   "execution_count": 1,
   "id": "a53bde2b-3d43-44a9-92c6-8ef5b171389f",
   "metadata": {},
   "outputs": [
    {
     "data": {
      "text/plain": [
       "121"
      ]
     },
     "execution_count": 1,
     "metadata": {},
     "output_type": "execute_result"
    }
   ],
   "source": [
    "# Create a list containing tuples of x and y coordinates of all points of a \n",
    "# regular grid for x ∈ [0,10] and y ∈ [0,10].\n",
    "\n",
    "g = [(x,y) for x in range(11) for y in range(11)]\n",
    "len(g)"
   ]
  },
  {
   "cell_type": "code",
   "execution_count": 2,
   "id": "08ae3460-ea17-40a8-a9d1-fc66fbaf5f41",
   "metadata": {},
   "outputs": [
    {
     "data": {
      "text/plain": [
       "55"
      ]
     },
     "execution_count": 2,
     "metadata": {},
     "output_type": "execute_result"
    }
   ],
   "source": [
    "# Count the number of points where y>x.\n",
    "\n",
    "g2 = [(x,y) for x in range(11) for y in range(11) if y > x]\n",
    "len(g2)"
   ]
  },
  {
   "cell_type": "code",
   "execution_count": 3,
   "id": "1aa9a1bc-1007-4d45-a4e6-5266a0051f75",
   "metadata": {},
   "outputs": [
    {
     "data": {
      "text/plain": [
       "55"
      ]
     },
     "execution_count": 3,
     "metadata": {},
     "output_type": "execute_result"
    }
   ],
   "source": [
    "len([ (x,y) for x,y in g if y>x])"
   ]
  },
  {
   "cell_type": "code",
   "execution_count": 4,
   "id": "735b022a-1532-4b42-a6c8-2f07492f365a",
   "metadata": {},
   "outputs": [
    {
     "data": {
      "text/plain": [
       "72"
      ]
     },
     "execution_count": 4,
     "metadata": {},
     "output_type": "execute_result"
    }
   ],
   "source": [
    "# Count the number of points x or y is prime.\n",
    "\n",
    "primes = (2,3,5,7)\n",
    "len([ (x,y) for x,y in g if x in primes or y in primes ])"
   ]
  },
  {
   "cell_type": "markdown",
   "id": "fd127b62-71a1-43a6-955a-e480686498de",
   "metadata": {},
   "source": [
    "### Exercise 2"
   ]
  },
  {
   "cell_type": "code",
   "execution_count": 5,
   "id": "3c63e336-ba2c-4bea-a817-13ed2cb5f184",
   "metadata": {},
   "outputs": [
    {
     "data": {
      "text/plain": [
       "[2.20462, 4.40924, 11.0231, 6.613859999999999]"
      ]
     },
     "execution_count": 5,
     "metadata": {},
     "output_type": "execute_result"
    }
   ],
   "source": [
    "# Write a function, kg_to_lb, that converts a list of weights in kilograms to a \n",
    "# list of weights in pounds (there a 1 kg = 2.20462 lbs). Include a doc string \n",
    "# and function annotations.\n",
    "\n",
    "def kg_to_lb(wt: list) -> list:\n",
    "    \"\"\"Convert weights in kilograms to pounds\"\"\"\n",
    "    \n",
    "    return [x * 2.20462 for x in wt]\n",
    "\n",
    "kg_to_lb([1,2,5,3])"
   ]
  },
  {
   "cell_type": "code",
   "execution_count": 6,
   "id": "951cfe7c-2c36-4b74-b41f-4452d74f8330",
   "metadata": {},
   "outputs": [
    {
     "data": {
      "text/plain": [
       "39.68316"
      ]
     },
     "execution_count": 6,
     "metadata": {},
     "output_type": "execute_result"
    }
   ],
   "source": [
    "# Write a second function, total_lb, that calculates the total weight in pounds \n",
    "# of an order, the input arguments should be a list of item weights in kilograms \n",
    "# and a list of the number of each item ordered.\n",
    "\n",
    "def total_lb(wt: list, n: list) -> list:\n",
    "    \"\"\"Calculate the total weight of an order (in pounds)\n",
    "    given the item weights (in kgs) and the number ordered\n",
    "    \"\"\"\n",
    "    \n",
    "    return sum([x * y * 2.20462 for x,y in zip(wt, n)])\n",
    "\n",
    "total_lb([1,2,5,3], [1,2,2,1])"
   ]
  },
  {
   "cell_type": "code",
   "execution_count": null,
   "id": "55835eb4-4b06-460b-980f-efd004234511",
   "metadata": {},
   "outputs": [],
   "source": []
  }
 ],
 "metadata": {
  "kernelspec": {
   "display_name": "Python 3 (ipykernel)",
   "language": "python",
   "name": "python3"
  },
  "language_info": {
   "codemirror_mode": {
    "name": "ipython",
    "version": 3
   },
   "file_extension": ".py",
   "mimetype": "text/x-python",
   "name": "python",
   "nbconvert_exporter": "python",
   "pygments_lexer": "ipython3",
   "version": "3.10.1"
  }
 },
 "nbformat": 4,
 "nbformat_minor": 5
}
